{
 "cells": [
  {
   "cell_type": "code",
   "execution_count": 1,
   "id": "aa7ec333-872e-4f86-9530-03be5b36988e",
   "metadata": {},
   "outputs": [],
   "source": [
    "# Exercise 1: Rewrite your pay computation to give the employee 1.5\n",
    "# times the hourly rate for hours worked above 40 hours.\n",
    "# Enter Hours: 45\n",
    "# Enter Rate: 10\n",
    "# Pay: 475.0"
   ]
  },
  {
   "cell_type": "code",
   "execution_count": 15,
   "id": "9256c37d-79a3-417d-9a71-9594d4b8d819",
   "metadata": {},
   "outputs": [
    {
     "name": "stdin",
     "output_type": "stream",
     "text": [
      "Enter number of hours worked \n",
      " 45\n",
      "Enter hourly rate\n",
      " 10\n"
     ]
    },
    {
     "name": "stdout",
     "output_type": "stream",
     "text": [
      "Total pay:  475.0\n"
     ]
    }
   ],
   "source": [
    "'''To calculate the total pay for an employee, if employee worked above 40hrs \n",
    "   overtime is 1.5 times higher than the normal rate'''\n",
    "\n",
    "hours = int(input('Enter number of hours worked \\n'))\n",
    "rate = int(input('Enter hourly rate\\n'))\n",
    "grossPay = hours * rate\n",
    "extra_pay = (hours - 40) * rate * 1.5\n",
    "\n",
    "if hours > 40:\n",
    "    total_pay = (40 * rate) + extra_pay\n",
    "else:\n",
    "    total_pay = grossPay\n",
    "    \n",
    "print('Total pay: ', total_pay)"
   ]
  },
  {
   "cell_type": "code",
   "execution_count": 16,
   "id": "622d1577-284b-4cc3-a6dc-91cdc233ce34",
   "metadata": {},
   "outputs": [],
   "source": [
    "# Exercise 2: Rewrite your pay program using try and except so that your\n",
    "# program handles non-numeric input gracefully by printing a message\n",
    "# and exiting the program. The following shows two executions of the program:\n",
    "# Enter Hours: 20\n",
    "# Enter Rate: nine\n",
    "# Error, please enter numeric input\n",
    "# Enter Hours: forty\n",
    "# Error, please enter numeric input"
   ]
  },
  {
   "cell_type": "code",
   "execution_count": 23,
   "id": "b398913f-6667-48e0-96d8-5c5fb76b9ef8",
   "metadata": {},
   "outputs": [
    {
     "name": "stdin",
     "output_type": "stream",
     "text": [
      "Enter number of hours worked \n",
      " 30\n",
      "Enter hourly rate\n",
      " nine\n"
     ]
    },
    {
     "name": "stdout",
     "output_type": "stream",
     "text": [
      "Error, Please enter a number\n"
     ]
    }
   ],
   "source": [
    "\"\"\"To insert a try/except clause in the previous code to catch none numerical errors\"\"\"\n",
    "\n",
    "try:\n",
    "    hours = int(input('Enter number of hours worked \\n'))\n",
    "    rate = int(input('Enter hourly rate\\n'))\n",
    "    grossPay = hours * rate\n",
    "    extra_pay = (hours - 40) * rate * 1.5\n",
    "\n",
    "\n",
    "    if hours > 40:\n",
    "        total_pay = (40 * rate) + extra_pay\n",
    "    else:\n",
    "        total_pay = grossPay\n",
    "        \n",
    "    print('Total pay: ', total_pay)\n",
    "except:\n",
    "    print('Error, please enter a number')\n",
    "    \n"
   ]
  },
  {
   "cell_type": "code",
   "execution_count": 24,
   "id": "0afe1f21-0232-4550-ae51-461912a5ce59",
   "metadata": {},
   "outputs": [],
   "source": [
    "# Exercise 3: Write a program to prompt for a score between 0.0 and\n",
    "# 1.0. If the score is out of range, print an error message. If the score is\n",
    "# between 0.0 and 1.0, print a grade using the following table:\n",
    "# Score Grade\n",
    "# >= 0.9 A\n",
    "# >= 0.8 B\n",
    "# >= 0.7 C\n",
    "# >= 0.6 D\n",
    "# < 0.6 F\n",
    "# Enter score: 0.95\n",
    "# A\n",
    "# Enter score: perfect\n",
    "# Bad score\n",
    "# Enter score: 10.0\n",
    "# Bad score\n",
    "# Enter score: 0.75\n",
    "# C\n",
    "# Enter score: 0.5\n",
    "# F\n",
    "# Run the program repeatedly as shown above to test the various different values for input."
   ]
  },
  {
   "cell_type": "code",
   "execution_count": 34,
   "id": "eb464482-39f2-4e58-abb2-f76763dc854d",
   "metadata": {},
   "outputs": [
    {
     "name": "stdin",
     "output_type": "stream",
     "text": [
      "Enter score:  0.5\n"
     ]
    },
    {
     "name": "stdout",
     "output_type": "stream",
     "text": [
      "F\n"
     ]
    }
   ],
   "source": [
    "try:\n",
    "    score = float(input('Enter score: '))\n",
    "    if score > 1.0 or score < 0.0:\n",
    "        print('Bad score')\n",
    "    elif score >= 0.9:\n",
    "        print('A')  \n",
    "    elif score >= 0.8:\n",
    "        print('B')\n",
    "    elif score >= 0.7:\n",
    "        print('C')\n",
    "    elif score >= 0.6:\n",
    "        print('D')\n",
    "    elif score < 0.6:\n",
    "        print('F')\n",
    "except:\n",
    "    print('Bad score')"
   ]
  },
  {
   "cell_type": "code",
   "execution_count": null,
   "id": "fb5dc7d4-fff6-49b4-b1f5-06f5228ccfc0",
   "metadata": {},
   "outputs": [],
   "source": []
  }
 ],
 "metadata": {
  "kernelspec": {
   "display_name": "Python 3",
   "language": "python",
   "name": "python3"
  },
  "language_info": {
   "codemirror_mode": {
    "name": "ipython",
    "version": 3
   },
   "file_extension": ".py",
   "mimetype": "text/x-python",
   "name": "python",
   "nbconvert_exporter": "python",
   "pygments_lexer": "ipython3",
   "version": "3.8.8"
  }
 },
 "nbformat": 4,
 "nbformat_minor": 5
}
