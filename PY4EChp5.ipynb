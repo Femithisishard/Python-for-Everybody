{
 "cells": [
  {
   "cell_type": "code",
   "execution_count": 1,
   "id": "edf0fee5-d8c4-4f5f-9d57-ecb16273cb87",
   "metadata": {},
   "outputs": [],
   "source": [
    "#Exercise 1: Write a program which repeatedly reads numbers until the user enters “done”. \n",
    "#Once “done” is entered, print out the total, count, and average of the numbers. \n",
    "#If the user enters anything other than a number, detect their mistake using try and except and print an error\n",
    "#message and skip to the next number."
   ]
  },
  {
   "cell_type": "code",
   "execution_count": 20,
   "id": "fbe62bef-8767-462c-8419-6af9dfc5d360",
   "metadata": {},
   "outputs": [
    {
     "name": "stdin",
     "output_type": "stream",
     "text": [
      "Enter a number: \n",
      " e\n"
     ]
    },
    {
     "name": "stdout",
     "output_type": "stream",
     "text": [
      "Invalid Output\n"
     ]
    },
    {
     "name": "stdin",
     "output_type": "stream",
     "text": [
      "Enter a number: \n",
      " 23\n",
      "Enter a number: \n",
      " 45\n",
      "Enter a number: \n",
      " 21\n",
      "Enter a number: \n",
      " done\n"
     ]
    },
    {
     "name": "stdout",
     "output_type": "stream",
     "text": [
      "Total:  89\n",
      "Count:  3\n",
      "Average:  29.666666666666668\n"
     ]
    }
   ],
   "source": [
    "def numbers():\n",
    "    total = 0\n",
    "    count = 0\n",
    "    average = 0\n",
    "    while True:\n",
    "        try:\n",
    "            number = input('Enter a number: \\n')\n",
    "            if number == 'done':\n",
    "                break\n",
    "            int_number = int(number)\n",
    "            total = total + int_number\n",
    "            count = count + 1\n",
    "            average = total/count\n",
    "        except:\n",
    "            print('Invalid Output')\n",
    "    print('Total: ', total)\n",
    "    print('Count: ', count)\n",
    "    print('Average: ', average)\n",
    "numbers()"
   ]
  },
  {
   "cell_type": "code",
   "execution_count": null,
   "id": "ef09279a-9e1b-4b24-b03a-d7284ff75842",
   "metadata": {},
   "outputs": [],
   "source": [
    "#Exercise 2: Write another program that prompts for a list of numbers as above and at the end prints out \n",
    "#both the maximum and minimum of the numbers instead of the average."
   ]
  },
  {
   "cell_type": "code",
   "execution_count": 42,
   "id": "26a81bf6-0a02-49ec-8808-c9bc53078d9d",
   "metadata": {},
   "outputs": [
    {
     "name": "stdin",
     "output_type": "stream",
     "text": [
      "Enter a number: \n",
      " w\n"
     ]
    },
    {
     "name": "stdout",
     "output_type": "stream",
     "text": [
      "Invalid Input\n"
     ]
    },
    {
     "name": "stdin",
     "output_type": "stream",
     "text": [
      "Enter a number: \n",
      " 23\n",
      "Enter a number: \n",
      " rer\n"
     ]
    },
    {
     "name": "stdout",
     "output_type": "stream",
     "text": [
      "Invalid Input\n"
     ]
    },
    {
     "name": "stdin",
     "output_type": "stream",
     "text": [
      "Enter a number: \n",
      " done\n"
     ]
    },
    {
     "name": "stdout",
     "output_type": "stream",
     "text": [
      "Maximum:  23\n",
      "Minimum:  23\n"
     ]
    }
   ],
   "source": [
    "def maxmin_numbers():\n",
    "    maximum = None\n",
    "    minimum = None\n",
    "    while True:\n",
    "        try:\n",
    "            numbers = input('Enter a number: \\n')\n",
    "            if numbers  == 'done':\n",
    "                break\n",
    "            int_numbers = int(numbers)\n",
    "            if maximum is None or int_numbers > maximum:\n",
    "                maximum = int_numbers\n",
    "            if minimum is None or int_numbers < minimum:\n",
    "                minimum = int_numbers\n",
    "        except:\n",
    "            print('Invalid Input')\n",
    "\n",
    "\n",
    "    \n",
    "    print('Maximum: ', maximum)\n",
    "    print('Minimum: ', minimum)\n",
    "\n",
    "\n",
    "maxmin_numbers()  "
   ]
  },
  {
   "cell_type": "code",
   "execution_count": null,
   "id": "7074a1bb-a21f-4cbb-a0bd-b526ccc9be9d",
   "metadata": {},
   "outputs": [],
   "source": []
  }
 ],
 "metadata": {
  "kernelspec": {
   "display_name": "Python 3",
   "language": "python",
   "name": "python3"
  },
  "language_info": {
   "codemirror_mode": {
    "name": "ipython",
    "version": 3
   },
   "file_extension": ".py",
   "mimetype": "text/x-python",
   "name": "python",
   "nbconvert_exporter": "python",
   "pygments_lexer": "ipython3",
   "version": "3.8.8"
  }
 },
 "nbformat": 4,
 "nbformat_minor": 5
}
