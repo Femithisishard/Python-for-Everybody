{
 "cells": [
  {
   "cell_type": "code",
   "execution_count": 4,
   "id": "4d2b0c6c-8816-4e98-b516-1161affc63e9",
   "metadata": {},
   "outputs": [
    {
     "name": "stdout",
     "output_type": "stream",
     "text": [
      "banana"
     ]
    }
   ],
   "source": [
    "fruit = 'banana'\n",
    "index = 0\n",
    "while index < len(fruit):\n",
    "    letter = fruit[index]\n",
    "    print(letter, end='')\n",
    "    index = index + 1\n",
    "    \n",
    "    "
   ]
  },
  {
   "cell_type": "code",
   "execution_count": 5,
   "id": "8fe13fab-4dec-4e33-9f22-5763e22801cf",
   "metadata": {},
   "outputs": [],
   "source": [
    "#Exercise 1: Write a while loop that starts at the last character in the string and works its way \n",
    "#backwards to the first character in the string, printing each letter on a separate line, except backwards."
   ]
  },
  {
   "cell_type": "code",
   "execution_count": 10,
   "id": "c84042c8-944d-4928-9ef8-351a102492cd",
   "metadata": {},
   "outputs": [
    {
     "name": "stdout",
     "output_type": "stream",
     "text": [
      "ananab"
     ]
    }
   ],
   "source": [
    "'''Write a while loop that reads the string from the back to the front'''\n",
    "index = len(fruit)\n",
    "while index > 0:\n",
    "    letter = fruit[index-1]\n",
    "    print(letter, end='')\n",
    "    index = index - 1"
   ]
  },
  {
   "cell_type": "code",
   "execution_count": 11,
   "id": "11eba5c1-5a8b-441e-acc0-b0f7e2eb3746",
   "metadata": {},
   "outputs": [
    {
     "data": {
      "text/plain": [
       "'banana'"
      ]
     },
     "execution_count": 11,
     "metadata": {},
     "output_type": "execute_result"
    }
   ],
   "source": [
    "fruit[:]"
   ]
  },
  {
   "cell_type": "code",
   "execution_count": 17,
   "id": "ac569f15-54b9-4f6c-8749-dfae096fadd8",
   "metadata": {},
   "outputs": [
    {
     "name": "stdout",
     "output_type": "stream",
     "text": [
      "1\n"
     ]
    }
   ],
   "source": [
    "def count(word, string):\n",
    "    counter = 0\n",
    "    for letter in word.lower():\n",
    "        if letter == string:\n",
    "            counter += 1\n",
    "    print (counter)\n",
    "    \n",
    "count('Banana', 'b')\n",
    "    "
   ]
  },
  {
   "cell_type": "code",
   "execution_count": 26,
   "id": "00890d4f-464f-4da8-a274-f5fb379f868f",
   "metadata": {},
   "outputs": [],
   "source": [
    "#Exercise 5: Take the following Python code that stores a string:\n",
    "#str = 'X-DSPAM-Confidence:0.8475'\n",
    "#Use find and string slicing to extract the portion of the string after the colon character and then use the \n",
    "#float function to convert the extracted string into a floating point number."
   ]
  },
  {
   "cell_type": "code",
   "execution_count": 34,
   "id": "c35cb38c-5645-4f78-b78d-eb27fe106117",
   "metadata": {},
   "outputs": [
    {
     "data": {
      "text/plain": [
       "float"
      ]
     },
     "execution_count": 34,
     "metadata": {},
     "output_type": "execute_result"
    }
   ],
   "source": [
    "def store_string(string):\n",
    "    find_pos = string.find(':')\n",
    "    stored_pos = float(string[find_pos+1:])\n",
    "    return stored_pos\n",
    "    \n",
    "string = 'X-DSPAM-Confidence:0.8475'\n",
    "store_string(string)"
   ]
  },
  {
   "cell_type": "code",
   "execution_count": null,
   "id": "f7b8da94-c5ad-4422-9c6c-dc3d7115be0b",
   "metadata": {},
   "outputs": [],
   "source": []
  }
 ],
 "metadata": {
  "kernelspec": {
   "display_name": "Python 3",
   "language": "python",
   "name": "python3"
  },
  "language_info": {
   "codemirror_mode": {
    "name": "ipython",
    "version": 3
   },
   "file_extension": ".py",
   "mimetype": "text/x-python",
   "name": "python",
   "nbconvert_exporter": "python",
   "pygments_lexer": "ipython3",
   "version": "3.8.8"
  }
 },
 "nbformat": 4,
 "nbformat_minor": 5
}
