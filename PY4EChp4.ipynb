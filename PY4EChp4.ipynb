{
 "cells": [
  {
   "cell_type": "code",
   "execution_count": 4,
   "id": "5b7ab074-86ac-4841-834d-1d0e0636b79b",
   "metadata": {},
   "outputs": [],
   "source": [
    "#Exercise 6: Rewrite your pay computation with time-and-a-half for over-\n",
    "#time and create a function called computepay which takes two parameters (hours and rate).\n",
    "#Enter Hours: 45\n",
    "#Enter Rate: 10\n",
    "#Pay: 475.0"
   ]
  },
  {
   "cell_type": "code",
   "execution_count": 17,
   "id": "2f61f4e5-3f90-4c19-aa37-43d47d83bdb7",
   "metadata": {},
   "outputs": [
    {
     "data": {
      "text/plain": [
       "475.0"
      ]
     },
     "execution_count": 17,
     "metadata": {},
     "output_type": "execute_result"
    }
   ],
   "source": [
    "'''To calculate the total pay for an employee, if employee worked above 40hrs \n",
    "   overtime is 1.5 times higher than the normal rate, but this time the program should be encapsulated'''\n",
    "def computepay(hours, rate):\n",
    "    grossPay = hours * rate\n",
    "    extra_pay = (hours - 40) * rate * 1.5\n",
    "\n",
    "    if hours > 40:\n",
    "        total_pay = (40 * rate) + extra_pay\n",
    "    else:\n",
    "        total_pay = grossPay\n",
    "    return total_pay\n",
    "\n",
    "computepay(45, 10)"
   ]
  },
  {
   "cell_type": "code",
   "execution_count": 18,
   "id": "0e56b1f2-d2d0-49ee-9ac0-6ca7654955e1",
   "metadata": {},
   "outputs": [],
   "source": [
    "#Exercise 7: Rewrite the grade program from the previous chapter using a function called \n",
    "#computegrade that takes a score as its parameter and returns a grade as a string.\n",
    "#Score Grade\n",
    "#>= 0.9 A\n",
    "#>= 0.8 B\n",
    "#>= 0.7 C\n",
    "#>= 0.6 D\n",
    "#< 0.6 F\n",
    "#Enter score: 0.95\n",
    "#A\n",
    "#Enter score: perfect\n",
    "#Bad score\n",
    "#Enter score: 10.0\n",
    "#Bad score\n",
    "#Enter score: 0.75\n",
    "#C\n",
    "#Enter score: 0.5\n",
    "#F\n",
    "#Run the program repeatedly to test the various different values for input."
   ]
  },
  {
   "cell_type": "code",
   "execution_count": 24,
   "id": "5e3bdc9a-105b-457f-825f-e8fc99dd0823",
   "metadata": {},
   "outputs": [
    {
     "name": "stdin",
     "output_type": "stream",
     "text": [
      "Enter score:  0.75\n"
     ]
    },
    {
     "name": "stdout",
     "output_type": "stream",
     "text": [
      "C\n"
     ]
    }
   ],
   "source": [
    "def computegrade():\n",
    "    try:\n",
    "        score = float(input('Enter score: '))\n",
    "        if score > 1.0 or score < 0.0:\n",
    "            print('Bad score')\n",
    "        elif score >= 0.9:\n",
    "            print('A')  \n",
    "        elif score >= 0.8:\n",
    "            print('B')\n",
    "        elif score >= 0.7:\n",
    "            print('C')\n",
    "        elif score >= 0.6:\n",
    "            print('D')\n",
    "        elif score < 0.6:\n",
    "            print('F')\n",
    "    except:\n",
    "        print('Bad score')\n",
    "        \n",
    "computegrade()"
   ]
  },
  {
   "cell_type": "code",
   "execution_count": null,
   "id": "9b3a7019-f707-4e8f-bdff-27298aacb85f",
   "metadata": {},
   "outputs": [],
   "source": []
  }
 ],
 "metadata": {
  "kernelspec": {
   "display_name": "Python 3",
   "language": "python",
   "name": "python3"
  },
  "language_info": {
   "codemirror_mode": {
    "name": "ipython",
    "version": 3
   },
   "file_extension": ".py",
   "mimetype": "text/x-python",
   "name": "python",
   "nbconvert_exporter": "python",
   "pygments_lexer": "ipython3",
   "version": "3.8.8"
  }
 },
 "nbformat": 4,
 "nbformat_minor": 5
}
